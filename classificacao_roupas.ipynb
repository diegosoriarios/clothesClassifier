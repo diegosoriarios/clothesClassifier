{
  "nbformat": 4,
  "nbformat_minor": 0,
  "metadata": {
    "colab": {
      "name": "classificacao_roupas.ipynb",
      "version": "0.3.2",
      "provenance": [],
      "collapsed_sections": []
    },
    "kernelspec": {
      "name": "python3",
      "display_name": "Python 3"
    }
  },
  "cells": [
    {
      "cell_type": "markdown",
      "metadata": {
        "id": "af8gR_NJsfer",
        "colab_type": "text"
      },
      "source": [
        "Import"
      ]
    },
    {
      "cell_type": "code",
      "metadata": {
        "id": "SBv3EaM6U41Q",
        "colab_type": "code",
        "colab": {}
      },
      "source": [
        "import tensorflow\n",
        "from tensorflow import keras\n",
        "import matplotlib.pyplot as plt\n",
        "import numpy as np\n",
        "from tensorflow.keras.models import load_model"
      ],
      "execution_count": 0,
      "outputs": []
    },
    {
      "cell_type": "markdown",
      "metadata": {
        "id": "nUY-fqA1siQv",
        "colab_type": "text"
      },
      "source": [
        "Carregando dataset"
      ]
    },
    {
      "cell_type": "code",
      "metadata": {
        "id": "QlMGyO8VsoHT",
        "colab_type": "code",
        "colab": {}
      },
      "source": [
        "dataset = keras.datasets.fashion_mnist\n",
        "((imagens_treino, identificacoes_treino), (imagens_teste, identificacoes_teste)) = dataset.load_data()"
      ],
      "execution_count": 0,
      "outputs": []
    },
    {
      "cell_type": "markdown",
      "metadata": {
        "id": "7KkvTo4OsqIw",
        "colab_type": "text"
      },
      "source": [
        "Exploração dos dados"
      ]
    },
    {
      "cell_type": "code",
      "metadata": {
        "id": "g6KfLzANsvEg",
        "colab_type": "code",
        "colab": {
          "base_uri": "https://localhost:8080/",
          "height": 35
        },
        "outputId": "7649614c-2859-4e16-cfa7-8fda6f586956"
      },
      "source": [
        "len(imagens_treino)\n",
        "imagens_treino.shape\n",
        "imagens_teste.shape\n",
        "len(identificacoes_teste)\n",
        "identificacoes_treino.min()\n",
        "identificacoes_treino.max()"
      ],
      "execution_count": 4,
      "outputs": [
        {
          "output_type": "execute_result",
          "data": {
            "text/plain": [
              "9"
            ]
          },
          "metadata": {
            "tags": []
          },
          "execution_count": 4
        }
      ]
    },
    {
      "cell_type": "markdown",
      "metadata": {
        "id": "6p3wRgTbs4km",
        "colab_type": "text"
      },
      "source": [
        "Exibição dos dados"
      ]
    },
    {
      "cell_type": "code",
      "metadata": {
        "id": "_HbgSqaXs9-x",
        "colab_type": "code",
        "colab": {}
      },
      "source": [
        "total_de_classificacoes = 10\n",
        "nomes_de_classificacoes = ['Camiseta', 'Calça', 'Pullover', \n",
        "                           'Vestido', 'Casaco', 'Sandália', 'Camisa',\n",
        "                           'Tênis', 'Bolsa', 'Bota']\n",
        "\n",
        "plt.imshow(imagens_treino[0])\n",
        "plt.colorbar()"
      ],
      "execution_count": 0,
      "outputs": []
    },
    {
      "cell_type": "markdown",
      "metadata": {
        "id": "ufw2nv9pBt-q",
        "colab_type": "text"
      },
      "source": [
        "Normalizando as imagens"
      ]
    },
    {
      "cell_type": "markdown",
      "metadata": {
        "id": "yjTrScokDXkt",
        "colab_type": "text"
      },
      "source": [
        ""
      ]
    },
    {
      "cell_type": "code",
      "metadata": {
        "id": "r0cObVs6tBHQ",
        "colab_type": "code",
        "colab": {}
      },
      "source": [
        "imagens_treino = imagens_treino / float(255)"
      ],
      "execution_count": 0,
      "outputs": []
    },
    {
      "cell_type": "markdown",
      "metadata": {
        "id": "JXxcgZ-ZB3fx",
        "colab_type": "text"
      },
      "source": [
        "Criando, compilando e treinando o modelo"
      ]
    },
    {
      "cell_type": "code",
      "metadata": {
        "id": "xbtu5WOZCB0I",
        "colab_type": "code",
        "colab": {}
      },
      "source": [
        "modelo = keras.Sequential([ \n",
        "    keras.layers.Flatten(input_shape=(28, 28)),\n",
        "    keras.layers.Dense(256, activation=tensorflow.nn.relu),\n",
        "    keras.layers.Dropout(0.2),\n",
        "    keras.layers.Dense(10, activation=tensorflow.nn.softmax)\n",
        "])\n",
        "\n",
        "modelo.compile(optimizer='adam', \n",
        "               loss='sparse_categorical_crossentropy',\n",
        "               metrics=['accuracy'])\n",
        "\n",
        "historico = modelo.fit(imagens_treino, identificacoes_treino, epochs=10, validation_split=0.2)"
      ],
      "execution_count": 0,
      "outputs": []
    },
    {
      "cell_type": "markdown",
      "metadata": {
        "id": "1h_7NNtRCYtT",
        "colab_type": "text"
      },
      "source": [
        "Salvando e carregando o modelo treinado"
      ]
    },
    {
      "cell_type": "code",
      "metadata": {
        "id": "H_gcSrulAN-N",
        "colab_type": "code",
        "colab": {}
      },
      "source": [
        "modelo.save('modelo.h5')\n",
        "modelo_salvo = load_model('modelo.h5')"
      ],
      "execution_count": 0,
      "outputs": []
    },
    {
      "cell_type": "markdown",
      "metadata": {
        "id": "a-Of-TsQCb9z",
        "colab_type": "text"
      },
      "source": [
        "Visualizando a acurácia de treinamento e validação"
      ]
    },
    {
      "cell_type": "code",
      "metadata": {
        "id": "0roDeJDM9FvX",
        "colab_type": "code",
        "colab": {}
      },
      "source": [
        "plt.plot(historico.history['acc'])\n",
        "plt.plot(historico.history['val_acc'])\n",
        "plt.title('Acuracia por epocas')\n",
        "plt.xlabel('epocas')\n",
        "plt.ylabel('acuracia')\n",
        "plt.legend(['treino', 'avaliacao'])"
      ],
      "execution_count": 0,
      "outputs": []
    },
    {
      "cell_type": "markdown",
      "metadata": {
        "id": "o-fqgAQwCl9Y",
        "colab_type": "text"
      },
      "source": [
        "Visualizando a perda de treinamento e validação"
      ]
    },
    {
      "cell_type": "code",
      "metadata": {
        "id": "ZzTF6CZg-FNn",
        "colab_type": "code",
        "colab": {}
      },
      "source": [
        "plt.plot(historico.history['loss'])\n",
        "plt.plot(historico.history['val_loss'])\n",
        "plt.title('Perda por epocas')\n",
        "plt.xlabel('epocas')\n",
        "plt.ylabel('perda')\n",
        "plt.legend(['treino', 'avaliacao'])"
      ],
      "execution_count": 0,
      "outputs": []
    },
    {
      "cell_type": "markdown",
      "metadata": {
        "id": "LnkWIm1jCtd2",
        "colab_type": "text"
      },
      "source": [
        "Testando o modelo e o modelo salvo"
      ]
    },
    {
      "cell_type": "code",
      "metadata": {
        "id": "lDa9AM8h7OSU",
        "colab_type": "code",
        "colab": {}
      },
      "source": [
        "testes = modelo.predict(imagens_teste)\n",
        "print('resultado teste: ', np.argmax(testes[0]))\n",
        "print('numero da imagem ', identificacoes_teste[0])\n",
        "\n",
        "testes_modelo_salvo = modelo_salvo.predict(imagens_teste)\n",
        "print('Resultado teste do modelo salvo: ', np.argmax(testes_modelo_salvo))\n",
        "print('numero da imagem ', identificacoes_teste[0])"
      ],
      "execution_count": 0,
      "outputs": []
    },
    {
      "cell_type": "markdown",
      "metadata": {
        "id": "73FrRHkWCyD5",
        "colab_type": "text"
      },
      "source": [
        "Avaliando o modelo"
      ]
    },
    {
      "cell_type": "code",
      "metadata": {
        "id": "IQ8biY_-8EQF",
        "colab_type": "code",
        "colab": {}
      },
      "source": [
        "perda_teste, acuracia_teste = modelo.evaluate(imagens_teste, identificacoes_teste)\n",
        "print('Perda do teste', perda_teste)\n",
        "print('Acuracia do teste', acuracia_teste)"
      ],
      "execution_count": 0,
      "outputs": []
    }
  ]
}